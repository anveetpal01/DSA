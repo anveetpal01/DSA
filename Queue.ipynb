{
  "nbformat": 4,
  "nbformat_minor": 0,
  "metadata": {
    "colab": {
      "provenance": []
    },
    "kernelspec": {
      "name": "python3",
      "display_name": "Python 3"
    },
    "language_info": {
      "name": "python"
    }
  },
  "cells": [
    {
      "cell_type": "markdown",
      "source": [
        "#Queue\n",
        "* It is linear data structure\n",
        "* It follow FIFO (first in first out)\n",
        "* In linked list insertion from tail and deletion from head\n",
        "* In queue head is front and tail is rear\n",
        "* while insertion - enqueue\n",
        "* while deletion - dequeue"
      ],
      "metadata": {
        "id": "gC8HtXXZXvQr"
      }
    },
    {
      "cell_type": "markdown",
      "source": [
        "####Implementation using Linked List"
      ],
      "metadata": {
        "id": "uvhtx29gbOOH"
      }
    },
    {
      "cell_type": "code",
      "source": [
        "class Node:\n",
        "  def __init__(self,value):\n",
        "    self.data = value\n",
        "    self.next = None"
      ],
      "metadata": {
        "id": "2wxJv1a-bVPQ"
      },
      "execution_count": 27,
      "outputs": []
    },
    {
      "cell_type": "code",
      "source": [
        "class Queue:\n",
        "  def __init__(self):\n",
        "    self.front = None\n",
        "    self.rear = None\n",
        "\n",
        "  def enqueue(self,value):\n",
        "\n",
        "    new_node = Node(value)\n",
        "\n",
        "    if self.rear == None:\n",
        "      self.front = new_node\n",
        "      self.rear = self.front\n",
        "    else:\n",
        "      self.rear.next = new_node\n",
        "      self.rear = new_node\n",
        "\n",
        "  def dequeue(self):\n",
        "    if self.front == None:\n",
        "      return \"Empty\"\n",
        "    else:\n",
        "      self.front = self.front.next\n",
        "\n",
        "  def traverse(self):\n",
        "    temp = self.front\n",
        "\n",
        "    while temp != None:\n",
        "      print(temp.data)\n",
        "      temp = temp.next\n",
        "  def is_empty(self):\n",
        "    return self.front == None\n",
        "\n",
        "  def size(self):\n",
        "    temp = self.front\n",
        "    counter = 0\n",
        "\n",
        "    while temp != None:\n",
        "      counter += 1\n",
        "      temp = temp.next\n",
        "\n",
        "    return counter\n",
        "\n",
        "  def front_item(self):\n",
        "    if self.front == None:\n",
        "      return \"Empty\"\n",
        "    else:\n",
        "      return self.front.data\n",
        "\n",
        "  def rear_item(self):\n",
        "    if self.front == None:\n",
        "      return 'Empty'\n",
        "    else:\n",
        "      return self.rear.data\n",
        "\n"
      ],
      "metadata": {
        "id": "HM_K5YE7cFKM"
      },
      "execution_count": 28,
      "outputs": []
    },
    {
      "cell_type": "code",
      "source": [
        "Q = Queue()"
      ],
      "metadata": {
        "id": "ae1OBBf6cTyy"
      },
      "execution_count": 55,
      "outputs": []
    },
    {
      "cell_type": "code",
      "source": [
        "Q.enqueue(7)"
      ],
      "metadata": {
        "id": "O2d-Rxi3d7gM"
      },
      "execution_count": 65,
      "outputs": []
    },
    {
      "cell_type": "code",
      "source": [
        "Q.is_empty()"
      ],
      "metadata": {
        "colab": {
          "base_uri": "https://localhost:8080/"
        },
        "id": "tAguBY9id9oJ",
        "outputId": "46b384d1-44bf-473a-db66-316e107f9029"
      },
      "execution_count": 57,
      "outputs": [
        {
          "output_type": "execute_result",
          "data": {
            "text/plain": [
              "False"
            ]
          },
          "metadata": {},
          "execution_count": 57
        }
      ]
    },
    {
      "cell_type": "code",
      "source": [
        "Q.dequeue()"
      ],
      "metadata": {
        "id": "SiadkKbTeKpi"
      },
      "execution_count": 67,
      "outputs": []
    },
    {
      "cell_type": "code",
      "source": [
        "Q.rear_item()"
      ],
      "metadata": {
        "colab": {
          "base_uri": "https://localhost:8080/"
        },
        "id": "rtKkDnv5gCtW",
        "outputId": "a3812f17-a4ca-4226-b8bd-cab8d5766df8"
      },
      "execution_count": 58,
      "outputs": [
        {
          "output_type": "execute_result",
          "data": {
            "text/plain": [
              "1"
            ]
          },
          "metadata": {},
          "execution_count": 58
        }
      ]
    },
    {
      "cell_type": "code",
      "source": [
        "Q.traverse()"
      ],
      "metadata": {
        "colab": {
          "base_uri": "https://localhost:8080/"
        },
        "id": "9qh2dPwigQzI",
        "outputId": "ec0f711b-2baa-4a0a-a654-cdf67d127723"
      },
      "execution_count": 66,
      "outputs": [
        {
          "output_type": "stream",
          "name": "stdout",
          "text": [
            "1\n",
            "2\n",
            "3\n",
            "4\n",
            "5\n",
            "6\n",
            "7\n"
          ]
        }
      ]
    }
  ]
}