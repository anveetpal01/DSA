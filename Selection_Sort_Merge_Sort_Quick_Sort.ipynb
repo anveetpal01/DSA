{
  "nbformat": 4,
  "nbformat_minor": 0,
  "metadata": {
    "colab": {
      "provenance": []
    },
    "kernelspec": {
      "name": "python3",
      "display_name": "Python 3"
    },
    "language_info": {
      "name": "python"
    }
  },
  "cells": [
    {
      "cell_type": "markdown",
      "source": [
        "This type of sorting is called Selection Sort as it works by repeatedly sorting elements. That is: we first find the smallest value in the array and exchange it with the element in the first position, then find the second smallest element and exchange it with the element in the second position, and we continue the process in this way until the entire array is sorted.\n",
        "1. Set MIN to location 0.\n",
        "2. Search the minimum element in the list.\n",
        "3. Swap with value at location MIN.\n",
        "4. Increment MIN to point to next element.\n",
        "5. Repeat until the list is sorted."
      ],
      "metadata": {
        "id": "XwZaNyY-y3bU"
      }
    },
    {
      "cell_type": "code",
      "execution_count": 1,
      "metadata": {
        "id": "lqRAR1jLquYq"
      },
      "outputs": [],
      "source": [
        " def selection_sort(arr):\n",
        "  for i in range(len(arr) - 1):\n",
        "\n",
        "    min = i\n",
        "\n",
        "    for j in range(i+1,len(arr)):\n",
        "      if arr[j] < arr[min]:\n",
        "        min = j\n",
        "\n",
        "    arr[i],arr[min] = arr[min],arr[i]\n",
        "\n",
        "  print(arr)"
      ]
    },
    {
      "cell_type": "markdown",
      "source": [
        "#Merge Sort"
      ],
      "metadata": {
        "id": "OIk4fA8s1gmJ"
      }
    },
    {
      "cell_type": "code",
      "source": [
        "def merge_sort(arr):\n",
        "\n",
        "  mid = len(arr)//2\n",
        "\n",
        "  left = arr[:mid]\n",
        "  right = arr[mid:]\n",
        "\n",
        "  if len(left) == 1 and len(right) == 1:\n",
        "    return merge_arrays(left,right)\n",
        "  else:\n",
        "    merge_sort(left)\n",
        "    merge_sort(right)"
      ],
      "metadata": {
        "id": "YE89QkgT1gOI"
      },
      "execution_count": null,
      "outputs": []
    },
    {
      "cell_type": "markdown",
      "source": [
        "#Quick Sort"
      ],
      "metadata": {
        "id": "B_AumH9J1l_w"
      }
    },
    {
      "cell_type": "code",
      "source": [
        "def quick_sort(arr):\n",
        "\n",
        "  if len(arr) <= 1:\n",
        "    return arr\n",
        "\n",
        "  pivot = arr.pop()\n",
        "\n",
        "  items_left = []\n",
        "  items_right = []\n",
        "\n",
        "  for item in arr:\n",
        "    if item < pivot:\n",
        "      items_left.append(item)\n",
        "    else:\n",
        "      items_right.append(item)\n",
        "\n",
        "  return quick_sort(items_left) + [pivot] + quick_sort(items_right)\n"
      ],
      "metadata": {
        "id": "EBAZsrPx1nP4"
      },
      "execution_count": null,
      "outputs": []
    }
  ]
}