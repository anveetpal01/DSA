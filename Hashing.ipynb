{
  "nbformat": 4,
  "nbformat_minor": 0,
  "metadata": {
    "colab": {
      "provenance": []
    },
    "kernelspec": {
      "name": "python3",
      "display_name": "Python 3"
    },
    "language_info": {
      "name": "python"
    }
  },
  "cells": [
    {
      "cell_type": "markdown",
      "source": [
        "#Hashing\n",
        "* Why hashing? - It provides fast searching.\n",
        "* Hashing provides searching in O(1) (constant time)\n",
        "* But it provides space complexity\n",
        "####How it works\n",
        "* Division method: The index is the remainder of the key divided by a chosen number, often a prime number.\n",
        "* Mid-square method: A seed value is squared, and then some digits from the middle are extracted.\n",
        "* Folding method: A type of hashing function.\n",
        "* Multiplication method: A type of hashing function\n",
        "\n"
      ],
      "metadata": {
        "id": "WRiq23bwtHfl"
      }
    },
    {
      "cell_type": "markdown",
      "source": [
        "####Collision in hashing\n",
        "If the modulo of two value is same then it suppose to store the value in same index\n",
        "Here the collision occurs\n",
        "\n",
        "####Techniques for handling collision\n",
        "* Storing at the same index (Closed Addressing technique) - chaining\n",
        "* Storing at another index (Open Addressing Technique) - 1. Linear probing 2. Quadritic probing"
      ],
      "metadata": {
        "id": "wM_vvxSHz7Fb"
      }
    },
    {
      "cell_type": "markdown",
      "source": [
        "####Closed Addressing technique - Chaining\n",
        "Storing at same index\n",
        "####How it works\n",
        "- The value is going to store in the index of array which is actually 'Node' which contains value and add of next node.\n",
        "- If we want to store value at the same index the index behaves like Linked List and store the another value in the form of next node at the same index\n",
        "- If chaining went too long then we have some ways to remove it -\n",
        "1. Rehashing\n",
        "2. Converting it to a tree\n"
      ],
      "metadata": {
        "id": "sdHunCDR0VBh"
      }
    },
    {
      "cell_type": "code",
      "source": [
        "class Node:\n",
        "\n",
        "  def __init__(self,key,value):\n",
        "    self.key = key\n",
        "    self.value = value\n",
        "    self.next = None"
      ],
      "metadata": {
        "id": "lLcJVz3w_2Ot"
      },
      "execution_count": null,
      "outputs": []
    },
    {
      "cell_type": "code",
      "source": [
        "class LL:\n",
        "\n",
        "  def __init__(self):\n",
        "    self.head = None\n",
        "\n",
        "  def add(self, key, value):\n",
        "\n",
        "    new_node = Node(key, value)\n",
        "\n",
        "    if self.head == None:\n",
        "      self.head = new_node\n",
        "    else:\n",
        "\n",
        "      temp = self.head\n",
        "\n",
        "      while temp.next != None:\n",
        "        temp = temp.next\n",
        "\n",
        "      temp.next = new_node\n",
        "\n",
        "  def delete_head(self):\n",
        "\n",
        "    if self.head == None:\n",
        "      return \"Empty\"\n",
        "    else:\n",
        "      self.head = self.head.next\n",
        "\n",
        "  def remove(self, key):\n",
        "    if self.head.key == key:\n",
        "      self.delete_head()\n",
        "      return\n",
        "\n",
        "    if self.head == None:\n",
        "      return \"Empty\"\n",
        "    else:\n",
        "\n",
        "      temp = self.head\n",
        "\n",
        "      while temp.next != None:\n",
        "        if temp.next.key == key:\n",
        "          break\n",
        "        temp = temp.next\n",
        "\n",
        "      if temp.next == None:\n",
        "        return \"Not Found\"\n",
        "      else:\n",
        "        temp.next = temp.next.next\n",
        "\n",
        "\n",
        "  def traverse(self):\n",
        "\n",
        "    temp = self.head\n",
        "\n",
        "    while temp != None:\n",
        "\n",
        "      print(temp.key,\"-->\",temp.value,\" \", end=\" \")\n",
        "      temp = temp.next\n",
        "\n",
        "  def size(self):\n",
        "\n",
        "    temp = self.head\n",
        "    counter = 0\n",
        "\n",
        "    while temp != None:\n",
        "\n",
        "      counter += 1\n",
        "      temp = temp.next\n",
        "\n",
        "    return counter\n",
        "\n",
        "  def search(self,key):\n",
        "\n",
        "    temp = self.head\n",
        "    pos = 0\n",
        "\n",
        "    while temp != None:\n",
        "\n",
        "      if temp.key == key:\n",
        "        return pos\n",
        "\n",
        "      temp = temp.next\n",
        "      pos += 1\n",
        "\n",
        "    return -1\n",
        "\n",
        "  def get_node_at_index(self,index):\n",
        "\n",
        "    temp = self.head\n",
        "    counter = 0\n",
        "\n",
        "    while temp is not None:\n",
        "\n",
        "      if counter == index:\n",
        "        return temp\n",
        "      temp = temp.next\n",
        "      counter+=1\n"
      ],
      "metadata": {
        "id": "KABiGjM9Cl8y"
      },
      "execution_count": null,
      "outputs": []
    },
    {
      "cell_type": "code",
      "source": [
        "class Dictionary:\n",
        "\n",
        "  def __init__(self, capacity):\n",
        "\n",
        "    self.capacity = capacity\n",
        "    self.size = 0\n",
        "    # create array of LL\n",
        "    self.buckets = self.make_array(self.capacity)\n",
        "\n",
        "  def make_array(self,capacity):\n",
        "\n",
        "    L = []\n",
        "    for i in range(capacity):\n",
        "      L.append(LL())\n",
        "    return L\n",
        "\n",
        "  def __setitem__(self,key,value):\n",
        "    self.put(key,value)\n",
        "\n",
        "  def __getitem__(self,key):\n",
        "    return self.get(key)\n",
        "\n",
        "  def __delitem__(self,key):\n",
        "\n",
        "    bucket_index = self.hash_function(key)\n",
        "\n",
        "    self.buckets[bucket_index].remove(key)\n",
        "\n",
        "  def __str__(self):\n",
        "\n",
        "    for i in self.buckets:\n",
        "      i.traverse()\n",
        "\n",
        "    return \"\"\n",
        "\n",
        "  def __len__(self):\n",
        "    return self.size\n",
        "\n",
        "\n",
        "  def get(self,key):\n",
        "\n",
        "    bucket_index = self.hash_function(key)\n",
        "\n",
        "    res = self.buckets[bucket_index].search(key)\n",
        "\n",
        "    if res == -1:\n",
        "      return \"Not Present\"\n",
        "    else:\n",
        "      node = self.buckets[bucket_index].get_node_at_index(res)\n",
        "      return node.value\n",
        "\n",
        "\n",
        "  def put(self, key, value):\n",
        "\n",
        "    bucket_index = self.hash_function(key)\n",
        "\n",
        "    node_index = self.get_node_index(bucket_index, key)\n",
        "\n",
        "    if node_index == -1:\n",
        "      # insert\n",
        "      self.buckets[bucket_index].add(key,value)\n",
        "      self.size+=1\n",
        "\n",
        "      load_factor = self.size/self.capacity\n",
        "      print(load_factor)\n",
        "\n",
        "      if (load_factor >= 2):\n",
        "        self.rehash()\n",
        "    else:\n",
        "      # update\n",
        "      node = self.buckets[bucket_index].get_node_at_index(node_index)\n",
        "      node.value = value\n",
        "\n",
        "  def rehash(self):\n",
        "    self.capacity = self.capacity * 2\n",
        "    old_buckets = self.buckets\n",
        "    self.size = 0\n",
        "    self.buckets = self.make_array(self.capacity)\n",
        "\n",
        "    for i in old_buckets:\n",
        "      for j in range(i.size()):\n",
        "        node = i.get_node_at_index(j)\n",
        "        key_item = node.key\n",
        "        value_item = node.value\n",
        "        self.put(key_item,value_item)\n",
        "\n",
        "\n",
        "\n",
        "  def get_node_index(self,bucket_index, key):\n",
        "\n",
        "    node_index = self.buckets[bucket_index].search(key)\n",
        "\n",
        "    return node_index\n",
        "\n",
        "  def hash_function(self,key):\n",
        "    return abs(hash(key)) % self.capacity\n"
      ],
      "metadata": {
        "id": "uFTD3I6gCsbL"
      },
      "execution_count": null,
      "outputs": []
    },
    {
      "cell_type": "markdown",
      "source": [
        "####Open Addressing technique -\n",
        "Storing at next empty index\n",
        "####How it works\n",
        "It sees the next index if they are empty then it will store in the next empty index. It has two ways -\n",
        "\n"
      ],
      "metadata": {
        "id": "uSZw2ram7z_F"
      }
    },
    {
      "cell_type": "markdown",
      "source": [
        "1. Linear Probing\n",
        "* In this we check if the next index is empty\n",
        "* array size should be greater than number of items\n",
        "* Problem - if we doing linear probing with large number of array then it gives wastage of memory by clustering(inserting values at distance with clusters) and the memory ramians empty.\n"
      ],
      "metadata": {
        "id": "P3AHrTKJBHyO"
      }
    },
    {
      "cell_type": "code",
      "source": [
        "#hash() = it return hash value of any mutable data type\n",
        "class Dictionary:\n",
        "  def __init__(self, size):\n",
        "    self.size = size\n",
        "    self.slots = [None] *self.size\n",
        "    self.data = [None] * self.size\n",
        "\n",
        "  def put(self, key, value):\n",
        "    hash_value = self.hash_func(key)\n",
        "\n",
        "    if self.slots[hash_value] == None:\n",
        "      self.slots[hash_value] = key\n",
        "      self.data[hash_value] = value\n",
        "    else:\n",
        "      if self.slots[hash_value] == key:\n",
        "        self.data[hash_value] = value\n",
        "      else:\n",
        "        new_hash_value = self.rehash(hash_value)\n",
        "\n",
        "        while self.slots[new_hash_value] != None and self.slots[new_hash_value] != key:\n",
        "          new_hash_value = self.rehash(new_hash_value)\n",
        "\n",
        "        if self.slots[new_hash_value] == None:\n",
        "          self.slots[new_hash_value] = key\n",
        "          self.data[new_hash_value] = value\n",
        "        else:\n",
        "          self.data[new_hash_value] = value\n",
        "\n",
        "\n",
        "\n",
        "  def rehash(self,old_hash):\n",
        "    return (old_hash + 1) % self.size\n",
        "\n",
        "\n",
        "  def hash_func(self,key):\n",
        "    return abs(hash(key))  % self.size  # it gives the positive modulo of value of the key whether string or int (mutable)\n",
        "\n",
        "\n",
        "  def __getitem__(self,key):\n",
        "    return self.get(key)\n",
        "\n",
        "  # we can use dictionary notation\n",
        "  def __setitem__(self,key,value):\n",
        "    self.put(key,value)\n",
        "\n",
        "\n",
        "  # fetching the items\n",
        "  def get(self,key):\n",
        "    start_pos = self.hash_func(key)\n",
        "    current_pos = start_pos\n",
        "\n",
        "    while self.slots[current_pos] != None:\n",
        "\n",
        "      if self.slots[current_pos] == key:\n",
        "        return self.data[current_pos]\n",
        "\n",
        "      current_pos = self.rehash(current_pos)\n",
        "\n",
        "      if current_pos == start_pos:\n",
        "        return 'Not found'\n",
        "\n",
        "    return 'Not found'\n",
        "\n",
        "\n",
        "  # to print dictionary\n",
        "  def __str__(self):\n",
        "    for i in range(len(self.slots)):\n",
        "      if self.slots[i] is not None:\n",
        "        print(self.slots[i],\":\",self.data[i],end = ' ')\n",
        "\n",
        "    return \"\"\n",
        "\n"
      ],
      "metadata": {
        "id": "TbtxnWtTBMC_"
      },
      "execution_count": 12,
      "outputs": []
    },
    {
      "cell_type": "code",
      "source": [],
      "metadata": {
        "id": "uPosOd-qCLVH"
      },
      "execution_count": null,
      "outputs": []
    },
    {
      "cell_type": "code",
      "source": [
        "d = Dictionary(3)"
      ],
      "metadata": {
        "id": "IhRUmh9MCLSO"
      },
      "execution_count": 2,
      "outputs": []
    },
    {
      "cell_type": "code",
      "source": [
        "print(d.slots)\n",
        "print(d.data)"
      ],
      "metadata": {
        "colab": {
          "base_uri": "https://localhost:8080/"
        },
        "id": "Bg8IhqnvCLLu",
        "outputId": "ab3e8d70-d416-464a-b345-2951298caed2"
      },
      "execution_count": 14,
      "outputs": [
        {
          "output_type": "stream",
          "name": "stdout",
          "text": [
            "[3, 4, None]\n",
            "['Anveet', 'Anveet', None]\n"
          ]
        }
      ]
    },
    {
      "cell_type": "code",
      "source": [
        "d.put(4,'Anveet')\n",
        "print(d)"
      ],
      "metadata": {
        "id": "Np2g3JiKCK-5",
        "colab": {
          "base_uri": "https://localhost:8080/"
        },
        "outputId": "67c6f687-bd7c-45db-e5c6-30c4982df1f5"
      },
      "execution_count": 13,
      "outputs": [
        {
          "output_type": "stream",
          "name": "stdout",
          "text": [
            "<__main__.Dictionary object at 0x7f628ca112a0>\n"
          ]
        }
      ]
    },
    {
      "cell_type": "markdown",
      "source": [
        "2. Quadritic Probing\n",
        "* It uses a quadratic formula for finding the next empty index."
      ],
      "metadata": {
        "id": "sE-pDxJKBKhm"
      }
    },
    {
      "cell_type": "code",
      "source": [
        "# Same code but the only difference is there is a quadratic equation for finding the next empty array."
      ],
      "metadata": {
        "id": "dCkCG6lO9kh6"
      },
      "execution_count": null,
      "outputs": []
    }
  ]
}