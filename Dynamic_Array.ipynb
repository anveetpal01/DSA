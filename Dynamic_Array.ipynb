{
  "nbformat": 4,
  "nbformat_minor": 0,
  "metadata": {
    "colab": {
      "provenance": [],
      "collapsed_sections": [
        "ETZRYGi4HdJ0"
      ]
    },
    "kernelspec": {
      "name": "python3",
      "display_name": "Python 3"
    },
    "language_info": {
      "name": "python"
    }
  },
  "cells": [
    {
      "cell_type": "markdown",
      "source": [
        "##Dynamic Array or python list\n",
        "1. create list\n",
        "2. len\n",
        "3. append\n",
        "4. print\n",
        "5. pop\n",
        "6. clear\n",
        "7. find\n",
        "8. find\n",
        "9. insert\n",
        "10. delete\n",
        "11. remove"
      ],
      "metadata": {
        "id": "ETZRYGi4HdJ0"
      }
    },
    {
      "cell_type": "code",
      "source": [
        "import ctypes"
      ],
      "metadata": {
        "id": "PCAQ_-RYxfxS"
      },
      "execution_count": null,
      "outputs": []
    },
    {
      "cell_type": "code",
      "source": [
        "class MyList:\n",
        "\n",
        "  def __init__(self):\n",
        "    self.size = 1\n",
        "    self.n = 0\n",
        "    # create a C type ka array with size -> self.size\n",
        "    self.A = self.__make_array(self.size)\n",
        "\n",
        "  def __len__(self):\n",
        "    return self.n\n",
        "\n",
        "  def append(self,item):\n",
        "    # check if vacant\n",
        "    if self.n == self.size:\n",
        "      # array is full -> resize\n",
        "      self.__resize(self.size*2)\n",
        "\n",
        "    self.A[self.n] = item\n",
        "    self.n = self.n + 1\n",
        "\n",
        "  def pop(self): #logic for popping the array(deleting last item)\n",
        "    if self.n == 0:\n",
        "      return 'Empty List'\n",
        "    print(self.A[self.n-1])\n",
        "    self.n = self.n - 1\n",
        "\n",
        "  def clear(self): #logic for clear array\n",
        "    self.n = 0\n",
        "    self.size = 1\n",
        "\n",
        "  def find(self,item):\n",
        "\n",
        "    for i in range(self.n):\n",
        "      if self.A[i] == item:\n",
        "        return i\n",
        "    return 'ValueError - not in list'\n",
        "\n",
        "  def insert(self,pos,item):\n",
        "\n",
        "    if self.n == self.size:\n",
        "      self.__resize(self.size*2)\n",
        "\n",
        "    for i in range(self.n,pos,-1):\n",
        "      self.A[i] = self.A[i-1]\n",
        "\n",
        "    self.A[pos] = item\n",
        "    self.n = self.n + 1\n",
        "\n",
        "  def remove(self,item):\n",
        "    # search and get pos\n",
        "    pos = self.find(item)\n",
        "    if type(pos) == int:\n",
        "      # delete\n",
        "      self.__delitem__(pos)\n",
        "    else:\n",
        "      return pos\n",
        "  def sort(self):\n",
        "    for i in self.A:\n",
        "      if type(i) == 'str':\n",
        "        return 'only intergers is sortable'\n",
        "\n",
        "    n = len(self.A)\n",
        "    for i in range(n):\n",
        "      for j in range(0,n-i-1):\n",
        "        if self.A[j]<self.A[j+1]:\n",
        "          self.A[j],self.A[j+1] = self.A[j+1],self.A[j]\n",
        "    return self.A\n",
        "\n",
        "\n",
        "    '''\n",
        "    if there is string type of items in the array:\n",
        "      return 'string item is not sortable'\n",
        "    else:\n",
        "      for i in self.size:\n",
        "        if self.A[i] > slef.A[i+1]:\n",
        "          self.A[i],slef.A[i+1] = self.A[i+1],slef.A[i]\n",
        "\n",
        "    return self.A\n",
        "    '''\n",
        "\n",
        "  def __resize(self,new_capacity):\n",
        "    # create a new array with new capacity\n",
        "    B = self.__make_array(new_capacity)\n",
        "    self.size = new_capacity\n",
        "    # copy the content of old array to new one\n",
        "    for i in range(self.n):\n",
        "      B[i] = self.A[i]\n",
        "    # reassign A\n",
        "    self.A = B\n",
        "\n",
        "  def __str__(self):  #logic for printing the array\n",
        "    result = ''\n",
        "    for i in range(self.n):\n",
        "      result = result + str(self.A[i]) + ','\n",
        "\n",
        "    return '[' + result[:-1] + ']'\n",
        "\n",
        "  def __getitem__(self,index):  # logic for indexing in the array\n",
        "\n",
        "    if 0<= index < self.n:\n",
        "      return self.A[index]\n",
        "    else:\n",
        "      return 'IndexError - Index out of range'\n",
        "\n",
        "  def __delitem__(self,pos):\n",
        "    # delete pos wala item\n",
        "    if 0<= pos < self.n:\n",
        "      for i in range(pos,self.n-1):\n",
        "        self.A[i] = self.A[i+1]\n",
        "\n",
        "      self.n = self.n - 1\n",
        "\n",
        "  def __make_array(self,capacity):\n",
        "    # referential array(C type)\n",
        "    return (capacity*ctypes.py_object)()"
      ],
      "metadata": {
        "id": "g1ZqMeKBxZt3"
      },
      "execution_count": null,
      "outputs": []
    },
    {
      "cell_type": "code",
      "source": [
        "l = MyList()"
      ],
      "metadata": {
        "id": "im92xou2xaLB"
      },
      "execution_count": null,
      "outputs": []
    },
    {
      "cell_type": "code",
      "source": [
        "l.append(1)\n",
        "l.append('hello')\n",
        "l.append('I am Anveet')\n",
        "l.append(1143)"
      ],
      "metadata": {
        "id": "0ouVa21OxaN5"
      },
      "execution_count": null,
      "outputs": []
    },
    {
      "cell_type": "code",
      "source": [
        "len(l)\n",
        "print(l)"
      ],
      "metadata": {
        "colab": {
          "base_uri": "https://localhost:8080/"
        },
        "id": "usp5kFyvxaQ9",
        "outputId": "e4b6e5f0-2a1f-4829-e464-f2bef026c8c8"
      },
      "execution_count": null,
      "outputs": [
        {
          "output_type": "stream",
          "name": "stdout",
          "text": [
            "[1,hello,I am Anveet,1143]\n"
          ]
        }
      ]
    },
    {
      "cell_type": "code",
      "source": [
        "l[3]\n",
        "l.insert(5,'world')\n",
        "print(l)"
      ],
      "metadata": {
        "id": "2u59mv5yxaTw",
        "colab": {
          "base_uri": "https://localhost:8080/"
        },
        "outputId": "a74283b6-925d-483a-e55f-c4fc881ee54d"
      },
      "execution_count": null,
      "outputs": [
        {
          "output_type": "stream",
          "name": "stdout",
          "text": [
            "[100,100,100,1,hello,world,I am Anveet,1143]\n"
          ]
        }
      ]
    },
    {
      "cell_type": "code",
      "source": [
        "l = [2,4,5,3,6,2,7]"
      ],
      "metadata": {
        "id": "YlvONETKxaWt"
      },
      "execution_count": null,
      "outputs": []
    },
    {
      "cell_type": "code",
      "source": [
        "print(l)\n",
        "l.sort()\n",
        "print(l)"
      ],
      "metadata": {
        "colab": {
          "base_uri": "https://localhost:8080/"
        },
        "id": "ZzXUaRRNKnJ9",
        "outputId": "4d2cb3ca-d3d5-4dc8-e187-b4d025722db6"
      },
      "execution_count": null,
      "outputs": [
        {
          "output_type": "stream",
          "name": "stdout",
          "text": [
            "[2, 4, 5, 3, 6, 2, 7]\n",
            "[2, 2, 3, 4, 5, 6, 7]\n"
          ]
        }
      ]
    }
  ]
}