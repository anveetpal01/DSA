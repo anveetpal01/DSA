{
  "nbformat": 4,
  "nbformat_minor": 0,
  "metadata": {
    "colab": {
      "provenance": []
    },
    "kernelspec": {
      "name": "python3",
      "display_name": "Python 3"
    },
    "language_info": {
      "name": "python"
    }
  },
  "cells": [
    {
      "cell_type": "markdown",
      "source": [
        "#Linear Search\n",
        "* Start from the searching point and search until it find the given element.\n",
        "* It search linearly.\n",
        "* This is a Brute force method of searching\n",
        "* Brute Force method -> A brute force algorithm is a simple, comprehensive search strategy that systematically explores every option until a problem's answer is discovered.\n",
        "* It is extremely slow than any searching algo for large database\n",
        "* We don't need a sorted array for this sorting doesn't matter here.\n",
        "* Time complexity -> O(n) worst case"
      ],
      "metadata": {
        "id": "QEg3kqQLDHa9"
      }
    },
    {
      "cell_type": "code",
      "source": [
        "def Linear_search(arr,item):\n",
        "  for i in range(len(arr)):\n",
        "    if arr[i] == item:\n",
        "      return i\n",
        "  return -1"
      ],
      "metadata": {
        "id": "aI2OOUtcD5u0"
      },
      "execution_count": 5,
      "outputs": []
    },
    {
      "cell_type": "code",
      "source": [
        "arr = [1,2,3,4,5,6,1]\n",
        "Linear_search(arr,1)"
      ],
      "metadata": {
        "colab": {
          "base_uri": "https://localhost:8080/"
        },
        "id": "X0iGI1mzFYth",
        "outputId": "6a799e53-c6f3-4184-90c9-fb2527918c27"
      },
      "execution_count": 6,
      "outputs": [
        {
          "output_type": "execute_result",
          "data": {
            "text/plain": [
              "1"
            ]
          },
          "metadata": {},
          "execution_count": 6
        }
      ]
    }
  ]
}