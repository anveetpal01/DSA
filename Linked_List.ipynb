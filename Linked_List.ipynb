{
  "cells": [
    {
      "cell_type": "markdown",
      "metadata": {
        "id": "yJ9TyhMLZXze"
      },
      "source": [
        "##Linked List\n",
        "1. creating node\n",
        "2. create a LL\n",
        "3. len()\n",
        "3. insert from head\n",
        "3. insert from tail(append)\n",
        "3. insert in middle(after)\n",
        "3. clear\n",
        "3. delete from head\n",
        "3. delete from tail (pop)\n",
        "3. delete by value (remove)\n",
        "3. search by value (find)\n",
        "3. delete by index -> del l[0]\n",
        "3. search by index(indexing)"
      ]
    },
    {
      "cell_type": "code",
      "execution_count": 1,
      "metadata": {
        "id": "HMWecGIAZUzr"
      },
      "outputs": [],
      "source": [
        "# ********  MAKING A NODE OF LINKED LIST  ********\n",
        "class Node:\n",
        "  def __init__(self,value):\n",
        "    self.data = value\n",
        "    self.next = None"
      ]
    },
    {
      "cell_type": "code",
      "execution_count": 11,
      "metadata": {
        "id": "ZP1MXsXoZUmV"
      },
      "outputs": [],
      "source": [
        "class LinkedList:\n",
        "  def __init__(self):\n",
        "    pass\n",
        "#  ******  MAKING AN EMPTY LL  ******\n",
        "    #Empty linked list\n",
        "    self.head = None\n",
        "    self.n = 0              # how many nodes in the linked list\n",
        "\n",
        "\n",
        "    # length of the LL\n",
        "  def __len__(self):\n",
        "    return self.n     # number of nodes in the LL\n",
        "\n",
        "\n",
        "\n",
        "  # traverse/print the elements of LL\n",
        "  def __str__(self):\n",
        "    curr = self.head\n",
        "    result = ''\n",
        "    while curr != None:\n",
        "      result = result + str(curr.data) + '->'\n",
        "      curr = curr.next\n",
        "\n",
        "    return result[:-2]\n",
        "\n",
        "\n",
        "# ******  INSERTION IN LL  ********\n",
        "\n",
        "    # insert from head in LL\n",
        "  def insert_head(self,value):\n",
        "    new_node = Node(value)       #making new node by node class\n",
        "    new_node.next = self.head    #create connection\n",
        "    self.head = new_node         #reassign head\n",
        "    self.n += 1\n",
        "\n",
        "\n",
        "  # insert from tail(append)\n",
        "  def append(self,value):\n",
        "    new_node = Node(value)\n",
        "\n",
        "    if self.head == None:\n",
        "      self.head = new_node\n",
        "      self.n = self.n + 1\n",
        "      return\n",
        "    curr = self.head\n",
        "\n",
        "    while curr.next != None:\n",
        "      curr = curr.next\n",
        "\n",
        "      # you are at the next node\n",
        "    curr.next = new_node\n",
        "    self.n += self.n\n",
        "\n",
        "\n",
        "  # insert in the middle of LL\n",
        "  def insert_after(self,after,value):\n",
        "\n",
        "    new_node = Node(value)\n",
        "    curr = self.head\n",
        "\n",
        "    while curr != None:\n",
        "      if curr.data == after:\n",
        "        break\n",
        "      curr = curr.next\n",
        "\n",
        "    if curr != None:\n",
        "      new_node.next = curr.next\n",
        "      curr.next = new_node\n",
        "      self.n = self.n + 1\n",
        "    else:\n",
        "      return  'Item not found'\n",
        "\n",
        "\n",
        "\n",
        "# ******  DELETION IN LL  ********\n",
        "  # clear the LL\n",
        "  def clear(self):\n",
        "    self.head = None\n",
        "    self.n = 0\n",
        "    return 'List is empty'\n",
        "\n",
        "\n",
        "  #delete item from first/head\n",
        "  def delete_head(self):\n",
        "\n",
        "    if self.head == None:\n",
        "      return 'List is empty'\n",
        "\n",
        "    self.head = self.head.next\n",
        "\n",
        "  # delete item from last/tail\n",
        "  def pop(self):\n",
        "    if self.head == None:\n",
        "      return 'List is empty'\n",
        "\n",
        "    curr = self.head\n",
        "    #if LL contains only 1 item\n",
        "    if curr.next == None:\n",
        "      self.delete_head()\n",
        "\n",
        "    while curr.next.next != None:\n",
        "      curr = curr.next\n",
        "\n",
        "    curr.next = None\n",
        "    self.n = self.n - 1\n",
        "\n",
        "\n",
        "  #deleting a specific item\n",
        "  def remove(self,value):\n",
        "\n",
        "    if self.head == None:\n",
        "      return 'List is empty'\n",
        "\n",
        "    if self.head.data == value:\n",
        "      return self.delete_head()\n",
        "\n",
        "    curr = self.head\n",
        "\n",
        "    while curr.next != None:\n",
        "      if curr.next.data == value:\n",
        "        break\n",
        "      curr = curr.next\n",
        "\n",
        "    if curr.next == None:\n",
        "      return 'Item not found'\n",
        "    else:\n",
        "      curr.next = curr.next.next\n",
        "\n",
        "\n",
        "\n",
        "# *****  SEARCHING IN LL  *****\n",
        "  def search(self,item):\n",
        "\n",
        "    curr = self.head\n",
        "    pos = 0\n",
        "\n",
        "    while curr != None:\n",
        "      if curr.data == item:\n",
        "        return pos\n",
        "      curr = curr.next\n",
        "      pos = pos + 1\n",
        "\n",
        "    return 'Not found'\n",
        "  # for using indexing feature\n",
        "  def __getitem__(self,index):\n",
        "    curr = self.head\n",
        "    pos = 0\n",
        "\n",
        "    while curr != None:\n",
        "      if pos == index:\n",
        "        return curr.data\n",
        "      curr = curr.next\n",
        "      pos = pos + 1\n",
        "\n",
        "    return 'IndexError'\n"
      ]
    },
    {
      "cell_type": "code",
      "execution_count": 12,
      "metadata": {
        "colab": {
          "base_uri": "https://localhost:8080/"
        },
        "id": "Y4zOqOSkZwS9",
        "outputId": "f8bd23b7-429c-46e5-9071-714313b0e965"
      },
      "outputs": [
        {
          "output_type": "execute_result",
          "data": {
            "text/plain": [
              "3"
            ]
          },
          "metadata": {},
          "execution_count": 12
        }
      ],
      "source": [
        "L = LinkedList()\n",
        "L.insert_head(1)\n",
        "L.insert_head(4)\n",
        "L.insert_head(5)\n",
        "len(L)"
      ]
    },
    {
      "cell_type": "code",
      "execution_count": 13,
      "metadata": {
        "id": "bmRO0nJyo9kB"
      },
      "outputs": [],
      "source": [
        "L.append(9)"
      ]
    },
    {
      "cell_type": "code",
      "execution_count": 14,
      "metadata": {
        "id": "OxbxoOCKLRWm"
      },
      "outputs": [],
      "source": [
        "L.insert_after(5,100)"
      ]
    },
    {
      "cell_type": "code",
      "execution_count": 15,
      "metadata": {
        "colab": {
          "base_uri": "https://localhost:8080/"
        },
        "id": "YC6XExp0denj",
        "outputId": "f2ca389a-e017-481f-c795-d605579cdf80"
      },
      "outputs": [
        {
          "output_type": "stream",
          "name": "stdout",
          "text": [
            "5->100->4->1->9\n"
          ]
        }
      ],
      "source": [
        "print(L)"
      ]
    },
    {
      "cell_type": "code",
      "execution_count": 7,
      "metadata": {
        "id": "A0bGHWjILL9O",
        "colab": {
          "base_uri": "https://localhost:8080/"
        },
        "outputId": "9e72ffcb-365e-4086-e8fb-58656d35688f"
      },
      "outputs": [
        {
          "output_type": "execute_result",
          "data": {
            "text/plain": [
              "4"
            ]
          },
          "metadata": {},
          "execution_count": 7
        }
      ],
      "source": [
        "L.search(9)"
      ]
    },
    {
      "cell_type": "code",
      "execution_count": 18,
      "metadata": {
        "id": "DbCl5_fhLL52",
        "colab": {
          "base_uri": "https://localhost:8080/"
        },
        "outputId": "d26c4502-f359-463d-a0e2-9ed7e8349a37"
      },
      "outputs": [
        {
          "output_type": "execute_result",
          "data": {
            "text/plain": [
              "100"
            ]
          },
          "metadata": {},
          "execution_count": 18
        }
      ],
      "source": [
        "L[1]"
      ]
    }
  ],
  "metadata": {
    "colab": {
      "provenance": []
    },
    "kernelspec": {
      "display_name": "Python 3",
      "name": "python3"
    },
    "language_info": {
      "name": "python"
    }
  },
  "nbformat": 4,
  "nbformat_minor": 0
}