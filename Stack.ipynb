{
  "nbformat": 4,
  "nbformat_minor": 0,
  "metadata": {
    "colab": {
      "provenance": []
    },
    "kernelspec": {
      "name": "python3",
      "display_name": "Python 3"
    },
    "language_info": {
      "name": "python"
    }
  },
  "cells": [
    {
      "cell_type": "markdown",
      "source": [
        "#Stack\n",
        "* Stack is linear data structure\n",
        "* It has a principal of LIFO (last in first out)\n",
        "* It can made with array or linked list both\n",
        "* Stack is opened from the top side\n",
        "* It has functions :- push / pop / peak / isempty / size\n",
        "* It is like a LL where we can perform operations from head only not touching tail of LL"
      ],
      "metadata": {
        "id": "-MNwvgeLmTjp"
      }
    },
    {
      "cell_type": "markdown",
      "source": [
        "####USING LINKED LIST"
      ],
      "metadata": {
        "id": "yIevgt6VOsP0"
      }
    },
    {
      "cell_type": "code",
      "execution_count": 56,
      "metadata": {
        "id": "IxqPgVbamPLY"
      },
      "outputs": [],
      "source": [
        "class Node:\n",
        "  def __init__(self,value):\n",
        "    self.data = value\n",
        "    self.next = None"
      ]
    },
    {
      "cell_type": "code",
      "source": [
        "'''\n",
        "class Stack:\n",
        "  def __init__(self):\n",
        "    self.top = None\n",
        "\n",
        "  def isempty(self):\n",
        "    return self.top == None\n",
        "\n",
        "  def push(self,value):\n",
        "\n",
        "    new_node = Node(value)\n",
        "\n",
        "    new_node.next = self.top\n",
        "\n",
        "    self.top = new_node\n",
        "\n",
        "  def traverse(self):\n",
        "    temp = self.top\n",
        "\n",
        "    while temp != None:\n",
        "      print(temp.data)\n",
        "      temp = temp.next\n",
        "\n",
        "\n",
        "  def peak(self):\n",
        "    if(self.isempty()):\n",
        "      return \"Stack Empty\"\n",
        "    else:\n",
        "      return self.top.data\n",
        "\n",
        "  def pop(self):\n",
        "\n",
        "    if self.top is None:\n",
        "      return \"Stack Empty\"\n",
        "    else:\n",
        "      data = self.top.data\n",
        "      self.top = self.top.next\n",
        "      return data\n",
        "\n",
        "  def size(self):\n",
        "    size = 0\n",
        "    for i in s.traverse():\n",
        "      size = size + 1\n",
        "    print(size)\n",
        "'''"
      ],
      "metadata": {
        "id": "l5cCiAM0oeOX",
        "colab": {
          "base_uri": "https://localhost:8080/",
          "height": 0
        },
        "outputId": "f668c81b-e0f3-4879-983e-b3fa27d51753"
      },
      "execution_count": 57,
      "outputs": [
        {
          "output_type": "execute_result",
          "data": {
            "text/plain": [
              "'\\nclass Stack:\\n  def __init__(self):\\n    self.top = None\\n\\n  def isempty(self):\\n    return self.top == None\\n\\n  def push(self,value):\\n\\n    new_node = Node(value)\\n\\n    new_node.next = self.top\\n\\n    self.top = new_node\\n\\n  def traverse(self):\\n    temp = self.top\\n\\n    while temp != None:\\n      print(temp.data)\\n      temp = temp.next\\n\\n\\n  def peak(self):\\n    if(self.isempty()):\\n      return \"Stack Empty\"\\n    else:\\n      return self.top.data\\n\\n  def pop(self):\\n\\n    if self.top is None:\\n      return \"Stack Empty\"\\n    else:\\n      data = self.top.data\\n      self.top = self.top.next\\n      return data\\n\\n  def size(self):\\n    size = 0\\n    for i in s.traverse():\\n      size = size + 1\\n    print(size)\\n'"
            ],
            "application/vnd.google.colaboratory.intrinsic+json": {
              "type": "string"
            }
          },
          "metadata": {},
          "execution_count": 57
        }
      ]
    },
    {
      "cell_type": "code",
      "source": [],
      "metadata": {
        "id": "RQPFjiEjJQ38"
      },
      "execution_count": 57,
      "outputs": []
    },
    {
      "cell_type": "code",
      "source": [
        "# string reversal using a stack\n",
        "\n",
        "def reverse_string(text):\n",
        "\n",
        "  s = Stack()\n",
        "\n",
        "  for i in text:\n",
        "    s.push(i)\n",
        "\n",
        "  res = \"\"\n",
        "\n",
        "  while not s.isempty():\n",
        "    res = res + s.pop()\n",
        "\n",
        "  print(res)\n",
        "\n"
      ],
      "metadata": {
        "id": "hen_WrPztFZn"
      },
      "execution_count": 58,
      "outputs": []
    },
    {
      "cell_type": "code",
      "source": [
        "# perform undo redo operations on a given string with help of stack\n",
        "def text_editor(text,pattern):\n",
        "  u = Stack()\n",
        "  r = Stack()\n",
        "\n",
        "  for i in text:\n",
        "    u.push(i)\n",
        "\n",
        "  for i in pattern:\n",
        "    if i == 'u':\n",
        "      data = u.pop()\n",
        "      r.push(data)\n",
        "    else:\n",
        "      data = r.pop()\n",
        "      u.push(data)\n",
        "\n",
        "  res = \"\"\n",
        "\n",
        "  while not u.isempty():\n",
        "    res = u.pop() + res\n",
        "\n",
        "  print(res)"
      ],
      "metadata": {
        "id": "k-Q6QYgC3ZN6"
      },
      "execution_count": 59,
      "outputs": []
    },
    {
      "cell_type": "code",
      "source": [
        "L = [\n",
        "    [0,0,1,1],\n",
        "    [0,0,1,0],\n",
        "    [0,0,0,0],\n",
        "    [0,0,1,0],\n",
        "     ]"
      ],
      "metadata": {
        "id": "HBG9jNp2Er6X"
      },
      "execution_count": 60,
      "outputs": []
    },
    {
      "cell_type": "markdown",
      "source": [
        "####USING ARRAY"
      ],
      "metadata": {
        "id": "I036SvA_O6CO"
      }
    },
    {
      "cell_type": "code",
      "source": [
        "class Stack:\n",
        "  def __init__(self,size):\n",
        "    self.size = size\n",
        "    self.__stack = [None] * self.size\n",
        "    self.top = -1\n",
        "\n",
        "\n",
        "  def push(self,value):\n",
        "\n",
        "    if self.top == self.size - 1:\n",
        "      return 'Overflow'\n",
        "    else:\n",
        "      self.top += 1\n",
        "      self.stack[self.top] = value\n",
        "\n",
        "  def pop(self):\n",
        "\n",
        "    if self.top == -1:\n",
        "      return 'empty'\n",
        "    else:\n",
        "      data = self.stack[self.top]\n",
        "      self.top -= 1\n",
        "      print(data)\n",
        "\n",
        "  def traverse(self):\n",
        "    for i in range(self.top + 1):\n",
        "      print(self.stack[i],end=' ')\n"
      ],
      "metadata": {
        "id": "jrMkbXoyO-FN"
      },
      "execution_count": 78,
      "outputs": []
    }
  ]
}